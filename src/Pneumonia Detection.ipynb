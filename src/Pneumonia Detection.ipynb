{
 "cells": [
  {
   "cell_type": "code",
   "execution_count": 27,
   "id": "a24195bc",
   "metadata": {},
   "outputs": [],
   "source": [
    "import tensorflow as tf\n",
    "import numpy as np\n",
    "import pandas as pd\n",
    "import matplotlib.pyplot as plt"
   ]
  },
  {
   "cell_type": "code",
   "execution_count": 28,
   "id": "f06f7978",
   "metadata": {},
   "outputs": [],
   "source": [
    "from keras.layers import Conv2D, AveragePooling2D, BatchNormalization,\\\n",
    "    Dense, Dropout, Flatten, MaxPooling2D, BatchNormalization\n",
    "from keras.models import Sequential\n",
    "from keras.optimizers import Adam\n",
    "from keras.callbacks import EarlyStopping\n",
    "from keras.utils import image_dataset_from_directory"
   ]
  },
  {
   "cell_type": "code",
   "execution_count": 29,
   "id": "8e8e019a",
   "metadata": {},
   "outputs": [],
   "source": [
    "import argparse\n",
    "import numpy as np\n",
    "from keras.utils import image_dataset_from_directory\n",
    "import os\n"
   ]
  },
  {
   "cell_type": "code",
   "execution_count": 30,
   "id": "a6ef3706",
   "metadata": {},
   "outputs": [
    {
     "name": "stdout",
     "output_type": "stream",
     "text": [
      "Found 5216 files belonging to 2 classes.\n",
      "Found 624 files belonging to 2 classes.\n"
     ]
    }
   ],
   "source": [
    "os.environ['TF_CPP_MIN_LOG_LEVER'] = '2'\n",
    "\n",
    "train_pth = 'data/train'\n",
    "test_pth = 'data/test'\n",
    "\n",
    "batch_size = 32\n",
    "n_epoch = 20\n",
    "n_epoch_FT = 25\n",
    "\n",
    "train_gen = image_dataset_from_directory(\n",
    "                train_pth,\n",
    "                image_size=(300, 300),\n",
    "                color_mode='grayscale',\n",
    "                label_mode='categorical',\n",
    "                batch_size=batch_size,\n",
    "                smart_resize=1./255,\n",
    "                shuffle=True\n",
    "            )\n",
    "test_gen = image_dataset_from_directory(\n",
    "                test_pth,\n",
    "                image_size=(300, 300),\n",
    "                color_mode='grayscale',\n",
    "                label_mode='categorical',\n",
    "                batch_size=batch_size,\n",
    "                smart_resize=1./255,\n",
    "                shuffle=True\n",
    "            )\n",
    "n_train = 5216\n",
    "n_test = 624"
   ]
  },
  {
   "cell_type": "code",
   "execution_count": 107,
   "id": "28f7c91a",
   "metadata": {},
   "outputs": [],
   "source": [
    "data_test = []\n",
    "pred_test = []\n",
    "for batch in test_gen:\n",
    "    for sample in batch[0]:\n",
    "        data_test.append(sample.numpy())\n",
    "    for pred in batch[1]:\n",
    "        pred_test.append(pred.numpy())\n",
    "data_test = np.asarray(data_test)\n",
    "pred_test = np.asarray(pred_test)"
   ]
  },
  {
   "cell_type": "code",
   "execution_count": 77,
   "id": "63a81a8f",
   "metadata": {},
   "outputs": [
    {
     "name": "stdout",
     "output_type": "stream",
     "text": [
      "Model: \"sequential_44\"\n",
      "_________________________________________________________________\n",
      " Layer (type)                Output Shape              Param #   \n",
      "=================================================================\n",
      " conv2d_182 (Conv2D)         (None, 298, 298, 16)      160       \n",
      "                                                                 \n",
      " average_pooling2d_130 (Aver  (None, 149, 149, 16)     0         \n",
      " agePooling2D)                                                   \n",
      "                                                                 \n",
      " conv2d_183 (Conv2D)         (None, 147, 147, 32)      4640      \n",
      "                                                                 \n",
      " average_pooling2d_131 (Aver  (None, 73, 73, 32)       0         \n",
      " agePooling2D)                                                   \n",
      "                                                                 \n",
      " batch_normalization_19 (Bat  (None, 73, 73, 32)       128       \n",
      " chNormalization)                                                \n",
      "                                                                 \n",
      " conv2d_184 (Conv2D)         (None, 71, 71, 64)        18496     \n",
      "                                                                 \n",
      " average_pooling2d_132 (Aver  (None, 35, 35, 64)       0         \n",
      " agePooling2D)                                                   \n",
      "                                                                 \n",
      " batch_normalization_20 (Bat  (None, 35, 35, 64)       256       \n",
      " chNormalization)                                                \n",
      "                                                                 \n",
      " conv2d_185 (Conv2D)         (None, 33, 33, 128)       73856     \n",
      "                                                                 \n",
      " average_pooling2d_133 (Aver  (None, 8, 8, 128)        0         \n",
      " agePooling2D)                                                   \n",
      "                                                                 \n",
      " conv2d_186 (Conv2D)         (None, 6, 6, 128)         147584    \n",
      "                                                                 \n",
      " average_pooling2d_134 (Aver  (None, 3, 3, 128)        0         \n",
      " agePooling2D)                                                   \n",
      "                                                                 \n",
      " flatten_45 (Flatten)        (None, 1152)              0         \n",
      "                                                                 \n",
      " dense_190 (Dense)           (None, 64)                73792     \n",
      "                                                                 \n",
      " dense_191 (Dense)           (None, 32)                2080      \n",
      "                                                                 \n",
      " dense_192 (Dense)           (None, 32)                1056      \n",
      "                                                                 \n",
      " dense_193 (Dense)           (None, 2)                 66        \n",
      "                                                                 \n",
      "=================================================================\n",
      "Total params: 322,114\n",
      "Trainable params: 321,922\n",
      "Non-trainable params: 192\n",
      "_________________________________________________________________\n",
      "Model: \"sequential_45\"\n",
      "_________________________________________________________________\n",
      " Layer (type)                Output Shape              Param #   \n",
      "=================================================================\n",
      " conv2d_187 (Conv2D)         (None, 298, 298, 32)      320       \n",
      "                                                                 \n",
      " conv2d_188 (Conv2D)         (None, 296, 296, 32)      9248      \n",
      "                                                                 \n",
      " dropout_35 (Dropout)        (None, 296, 296, 32)      0         \n",
      "                                                                 \n",
      " average_pooling2d_135 (Aver  (None, 49, 49, 32)       0         \n",
      " agePooling2D)                                                   \n",
      "                                                                 \n",
      " conv2d_189 (Conv2D)         (None, 47, 47, 64)        18496     \n",
      "                                                                 \n",
      " dropout_36 (Dropout)        (None, 47, 47, 64)        0         \n",
      "                                                                 \n",
      " average_pooling2d_136 (Aver  (None, 7, 7, 64)         0         \n",
      " agePooling2D)                                                   \n",
      "                                                                 \n",
      " dropout_37 (Dropout)        (None, 7, 7, 64)          0         \n",
      "                                                                 \n",
      " conv2d_190 (Conv2D)         (None, 5, 5, 128)         73856     \n",
      "                                                                 \n",
      " max_pooling2d_27 (MaxPoolin  (None, 2, 2, 128)        0         \n",
      " g2D)                                                            \n",
      "                                                                 \n",
      " flatten_46 (Flatten)        (None, 512)               0         \n",
      "                                                                 \n",
      " dense_194 (Dense)           (None, 64)                32832     \n",
      "                                                                 \n",
      " dense_195 (Dense)           (None, 32)                2080      \n",
      "                                                                 \n",
      " dense_196 (Dense)           (None, 32)                1056      \n",
      "                                                                 \n",
      " dense_197 (Dense)           (None, 16)                528       \n",
      "                                                                 \n",
      " dense_198 (Dense)           (None, 2)                 34        \n",
      "                                                                 \n",
      "=================================================================\n",
      "Total params: 138,450\n",
      "Trainable params: 138,450\n",
      "Non-trainable params: 0\n",
      "_________________________________________________________________\n"
     ]
    }
   ],
   "source": [
    "# creating multiple models for testing\n",
    "\n",
    "model1 = Sequential([\n",
    "    Conv2D(16, kernel_size=(3, 3), input_shape=(300, 300, 1), activation='relu'),\n",
    "    AveragePooling2D(5, 5),\n",
    "    Conv2D(64, kernel_size=(3, 3),  activation='relu'),\n",
    "    AveragePooling2D(2, 2),\n",
    "    Conv2D(64, kernel_size=(3, 3),  activation='relu'),\n",
    "    AveragePooling2D(2, 2),\n",
    "    Conv2D(128, kernel_size=(3, 3),  activation='relu'),\n",
    "    AveragePooling2D(2, 2),\n",
    "    Conv2D(256, kernel_size=(3, 3),  activation='relu'),\n",
    "    AveragePooling2D(2, 2),\n",
    "    \n",
    "    Flatten(),\n",
    "    Dense(64, activation='relu'),\n",
    "    Dense(32, activation='relu'),\n",
    "    Dense(32, activation='relu'),\n",
    "    Dense(16, activation='relu'),\n",
    "    Dense(8, activation='relu'),\n",
    "    \n",
    "    Dense(2, activation='softmax')\n",
    "])\n",
    "model2 = Sequential([\n",
    "    Conv2D(64, kernel_size=(3, 3), input_shape=(300, 300, 1), activation='relu'),\n",
    "    AveragePooling2D(5, 5),\n",
    "    Conv2D(64, kernel_size=(3, 3),  activation='relu'),\n",
    "    AveragePooling2D(5, 5),\n",
    "    Conv2D(128, kernel_size=(3, 3),  activation='relu'),\n",
    "    AveragePooling2D(2, 2),\n",
    "    \n",
    "    Flatten(),\n",
    "    Dense(32, activation='relu'),\n",
    "    Dense(32, activation='relu'),\n",
    "    Dense(16, activation='relu'),\n",
    "    Dense(8, activation='relu'),\n",
    "    \n",
    "    Dense(2, activation='softmax')\n",
    "])\n",
    "model3 = Sequential([\n",
    "    Conv2D(32, kernel_size=(3, 3), input_shape=(300, 300, 1), activation='relu'),\n",
    "    Conv2D(32, kernel_size=(3, 3), activation=\"relu\"),\n",
    "    AveragePooling2D(5, 5),\n",
    "    Conv2D(64, kernel_size=(3, 3), activation=\"relu\"),\n",
    "    AveragePooling2D(5, 5),\n",
    "    Conv2D(64, kernel_size=(3, 3), activation=\"relu\"),\n",
    "    MaxPooling2D(2,2),\n",
    "    Flatten(),\n",
    "    \n",
    "    Dense(32, activation='relu'),\n",
    "    Dense(16, activation='relu'),\n",
    "    Dense(16, activation='relu'),\n",
    "    Dense(8, activation='relu'),\n",
    "    Dense(2, activation='softmax')\n",
    "])\n",
    "model4 = Sequential([\n",
    "    Conv2D(16, kernel_size=(3, 3), input_shape=(300, 300, 1), activation='relu'),\n",
    "    AveragePooling2D(2, 2),\n",
    "    Conv2D(32, kernel_size=(3, 3), activation=\"relu\"),\n",
    "    AveragePooling2D(2, 2),\n",
    "    BatchNormalization(),\n",
    "    Conv2D(64, kernel_size=(3, 3), activation=\"relu\"),\n",
    "    AveragePooling2D(2, 2),\n",
    "    BatchNormalization(),\n",
    "    Conv2D(128, kernel_size=(3, 3), activation=\"relu\"),\n",
    "    AveragePooling2D(4, 4),\n",
    "    Conv2D(128, kernel_size=(3, 3), activation=\"relu\"),\n",
    "    AveragePooling2D(2, 2),\n",
    "    \n",
    "    \n",
    "    \n",
    "    Flatten(),\n",
    "\n",
    "    Dense(64, activation='relu'),\n",
    "    Dense(32, activation='relu'),\n",
    "    Dense(32, activation='relu'),\n",
    "    Dense(2, activation='softmax')\n",
    "])\n",
    "\n",
    "model1.compile(loss=tf.losses.BinaryCrossentropy(),\n",
    "             optimizer=tf.optimizers.Adam(learning_rate=0.003),\n",
    "             metrics=['accuracy'])\n",
    "model2.compile(loss=tf.losses.BinaryCrossentropy(),\n",
    "             optimizer=tf.optimizers.Adam(learning_rate=0.003),\n",
    "             metrics=['accuracy'])\n",
    "model3.compile(loss=tf.losses.BinaryCrossentropy(),\n",
    "             optimizer=tf.optimizers.Adam(learning_rate=0.003),\n",
    "             metrics=['accuracy'])\n",
    "model4.compile(loss=tf.losses.BinaryCrossentropy(),\n",
    "             optimizer=tf.optimizers.Adam(learning_rate=0.03),\n",
    "             metrics=[\"accuracy\"])\n",
    "model5 = Sequential([\n",
    "            Conv2D(32, kernel_size=(3, 3), input_shape=(300, 300, 1), activation='relu'),\n",
    "            Conv2D(32, kernel_size=(3, 3), activation='relu'),\n",
    "            Dropout(0.4),\n",
    "            AveragePooling2D(6, 6),\n",
    "            Conv2D(64, kernel_size=(3,3), activation='relu'),\n",
    "            Dropout(0.4),\n",
    "            AveragePooling2D(6, 6),\n",
    "            Dropout(0.3),\n",
    "            Conv2D(128, kernel_size=(3, 3)),\n",
    "            MaxPooling2D(2, 2),\n",
    "\n",
    "            Flatten(),\n",
    "            Dense(64, activation='relu'),\n",
    "            Dense(32, activation='relu'),\n",
    "            Dense(32, activation='relu'),\n",
    "            Dense(16, activation='relu'),\n",
    "            Dense(2, activation='softmax')\n",
    "        ])\n",
    "model5.compile(loss=tf.losses.BinaryCrossentropy(),\n",
    "             optimizer=tf.optimizers.Adam(learning_rate=0.01),\n",
    "             metrics=['accuracy'])\n",
    "\n",
    "models = [model1, model2, model3, model4, model5]"
   ]
  },
  {
   "cell_type": "code",
   "execution_count": 23,
   "id": "da2b5ba2",
   "metadata": {},
   "outputs": [
    {
     "name": "stdout",
     "output_type": "stream",
     "text": [
      "Epoch 1/3\n",
      "163/163 [==============================] - 132s 808ms/step - loss: 0.1975 - accuracy: 0.9300 - val_loss: 1.1068 - val_accuracy: 0.7582\n",
      "Epoch 2/3\n",
      "163/163 [==============================] - 132s 804ms/step - loss: 0.1939 - accuracy: 0.9293 - val_loss: 0.8392 - val_accuracy: 0.7599\n",
      "Epoch 3/3\n",
      "163/163 [==============================] - 133s 814ms/step - loss: 0.1704 - accuracy: 0.9367 - val_loss: 0.7230 - val_accuracy: 0.7747\n"
     ]
    }
   ],
   "source": [
    "# model3 turned out to be the best fit\n",
    "history3 = model3.fit(train_gen,\n",
    "          validation_data=test_gen,\n",
    "          steps_per_epoch=n_train // batch_size,\n",
    "          validation_steps=n_test // batch_size,\n",
    "          epochs=5)"
   ]
  },
  {
   "cell_type": "code",
   "execution_count": 79,
   "id": "ee800c89",
   "metadata": {},
   "outputs": [
    {
     "name": "stdout",
     "output_type": "stream",
     "text": [
      "Epoch 1/3\n",
      "163/163 [==============================] - 207s 1s/step - loss: 0.1663 - accuracy: 0.9337 - val_loss: 0.7250 - val_accuracy: 0.7549\n",
      "Epoch 2/3\n",
      "163/163 [==============================] - 217s 1s/step - loss: 0.1519 - accuracy: 0.9427 - val_loss: 0.7533 - val_accuracy: 0.7632\n",
      "Epoch 3/3\n",
      "163/163 [==============================] - 223s 1s/step - loss: 0.1501 - accuracy: 0.9438 - val_loss: 0.7145 - val_accuracy: 0.8010\n"
     ]
    }
   ],
   "source": [
    "history3_2 = model3.fit(train_gen,\n",
    "          validation_data=test_gen,\n",
    "          steps_per_epoch=n_train // batch_size,\n",
    "          validation_steps=n_test // batch_size,\n",
    "          epochs=3)"
   ]
  },
  {
   "cell_type": "code",
   "execution_count": 80,
   "id": "500d2054",
   "metadata": {},
   "outputs": [],
   "source": [
    "model3.save_weights(\"weights80.h5\")"
   ]
  },
  {
   "cell_type": "code",
   "execution_count": 91,
   "id": "8acae161",
   "metadata": {},
   "outputs": [],
   "source": [
    "info = pd.DataFrame(history3.history)"
   ]
  },
  {
   "cell_type": "code",
   "execution_count": 96,
   "id": "6cd532ac",
   "metadata": {},
   "outputs": [],
   "source": [
    "combo_accuracy=np.concatenate((history3.history['accuracy'],history3_2.history['accuracy']),axis=0)\n",
    "combo_val_accuracy=np.concatenate((history3.history['val_accuracy'],history3_2.history['val_accuracy']),axis=0)"
   ]
  },
  {
   "cell_type": "code",
   "execution_count": 98,
   "id": "86ffb8f6",
   "metadata": {},
   "outputs": [
    {
     "data": {
      "text/plain": [
       "<matplotlib.legend.Legend at 0x7fc9fe2c6250>"
      ]
     },
     "execution_count": 98,
     "metadata": {},
     "output_type": "execute_result"
    },
    {
     "data": {
      "image/png": "[encoded data removed]",
      "text/plain": [
       "<Figure size 640x480 with 1 Axes>"
      ]
     },
     "metadata": {},
     "output_type": "display_data"
    }
   ],
   "source": [
    "plt.plot(combo_accuracy, 'orange', label='Training accuracy')\n",
    "plt.plot(combo_val_accuracy, 'blue', label='Validation accuracy')\n",
    "plt.legend()"
   ]
  },
  {
   "cell_type": "code",
   "execution_count": 115,
   "id": "2c1ba032",
   "metadata": {},
   "outputs": [
    {
     "name": "stdout",
     "output_type": "stream",
     "text": [
      "20/20 [==============================] - 6s 304ms/step\n"
     ]
    }
   ],
   "source": [
    "preds = model3.predict(data_test)"
   ]
  },
  {
   "cell_type": "code",
   "execution_count": 109,
   "id": "a0f44e22",
   "metadata": {},
   "outputs": [],
   "source": [
    "import itertools\n",
    "from sklearn.metrics import confusion_matrix"
   ]
  },
  {
   "cell_type": "code",
   "execution_count": 135,
   "id": "63b8bd67",
   "metadata": {},
   "outputs": [],
   "source": [
    "def plot_conf(y_true, y_pred, classes=None, figsize=(10,10), text_size=15):\n",
    "    cm = confusion_matrix(y_true, y_pred)\n",
    "    cm_norm = cm.astype(\"float\") / cm.sum(axis=1)[:, np.newaxis]\n",
    "    \n",
    "    fig, ax = plt.subplots(figsize=figsize)\n",
    "    cax = ax.matshow(cm, cmap=plt.cm.Greens)\n",
    "    fig.colorbar(cax)\n",
    "    \n",
    "    if classes:\n",
    "        labels = classes\n",
    "    else:\n",
    "        labels = np.arange(cm.shape[0])\n",
    "    \n",
    "    ax.set(title=\"Confusion Matrix\",\n",
    "           xlabel=\"Predicted\",\n",
    "          ylabel=\"True\",\n",
    "          xticks=np.arange(2),\n",
    "          yticks=np.arange(2),\n",
    "          xticklabels=labels,\n",
    "          yticklabels=labels)\n",
    "    \n",
    "    ax.xaxis.set_label_position(\"bottom\")\n",
    "    ax.xaxis.tick_bottom()\n",
    "    \n",
    "    threshold = (cm.max() + cm.min())/2.\n",
    "    for i, j in itertools.product(range(2), range(2)):\n",
    "        plt.text(j, i, f\"{cm[i,j]} ({cm_norm[i,j]*100:.1f}%)\",\n",
    "                horizontalalignment=\"center\",\n",
    "                color=\"white\" if cm[i,j] > threshold else \"black\",\n",
    "                size=text_size)\n",
    "    "
   ]
  },
  {
   "cell_type": "code",
   "execution_count": 136,
   "id": "23ccf9b4",
   "metadata": {},
   "outputs": [
    {
     "data": {
      "image/png": "[encoded data removed]",
      "text/plain": [
       "<Figure size 1000x1000 with 2 Axes>"
      ]
     },
     "metadata": {},
     "output_type": "display_data"
    }
   ],
   "source": [
    "plot_conf(pred_test[:,1], np.round(preds[:,1]), classes=[\"Normal\", \"Pneumonia\"])"
   ]
  },
  {
   "cell_type": "code",
   "execution_count": null,
   "id": "f71034eb",
   "metadata": {},
   "outputs": [],
   "source": []
  }
 ],
 "metadata": {
  "kernelspec": {
   "display_name": "Python 3 (ipykernel)",
   "language": "python",
   "name": "python3"
  },
  "language_info": {
   "codemirror_mode": {
    "name": "ipython",
    "version": 3
   },
   "file_extension": ".py",
   "mimetype": "text/x-python",
   "name": "python",
   "nbconvert_exporter": "python",
   "pygments_lexer": "ipython3",
   "version": "3.9.12"
  }
 },
 "nbformat": 4,
 "nbformat_minor": 5
}
